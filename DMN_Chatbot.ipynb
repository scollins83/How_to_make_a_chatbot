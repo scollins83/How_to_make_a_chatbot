{
 "cells": [
  {
   "cell_type": "markdown",
   "metadata": {},
   "source": [
    "# DMN Chatbot"
   ]
  },
  {
   "cell_type": "code",
   "execution_count": 1,
   "metadata": {},
   "outputs": [
    {
     "name": "stderr",
     "output_type": "stream",
     "text": [
      "Using TensorFlow backend.\n"
     ]
    }
   ],
   "source": [
    "from keras.models import Sequential, Model\n",
    "from keras.layers.embeddings import Embedding\n",
    "from keras.layers import Input, Activation, Dense, Permute, Dropout, add, dot, concatenate\n",
    "from keras.layers import LSTM\n",
    "from keras.utils.data_utils import get_file\n",
    "from keras.preprocessing.sequence import pad_sequences\n",
    "from functools import reduce\n",
    "import tarfile\n",
    "import numpy as np\n",
    "import re"
   ]
  },
  {
   "cell_type": "code",
   "execution_count": 2,
   "metadata": {
    "collapsed": true
   },
   "outputs": [],
   "source": [
    "def tokenize(sent):\n",
    "    '''Return the tokens of a sentence including punctuation.\n",
    "    >>> tokenize('Bob dropped the apple. Where is the apple?')\n",
    "    ['Bob', 'dropped', 'the', 'apple', '.', 'Where', 'is', 'the', 'apple', '?']\n",
    "    '''\n",
    "    return [x.strip() for x in re.split('(\\W+)?', sent) if x.strip()]"
   ]
  },
  {
   "cell_type": "code",
   "execution_count": 3,
   "metadata": {
    "collapsed": true
   },
   "outputs": [],
   "source": [
    "def parse_stories(lines, only_supporting=False):\n",
    "    '''Parse stories provided in the bAbi tasks format\n",
    "    If only_supporting is true, only the sentences\n",
    "    that support the answer are kept.\n",
    "    '''\n",
    "    data = []\n",
    "    story = []\n",
    "    for line in lines:\n",
    "        line = line.decode('utf-8').strip()\n",
    "        nid, line = line.split(' ', 1)\n",
    "        nid = int(nid)\n",
    "        if nid == 1:\n",
    "            story = []\n",
    "        if '\\t' in line:\n",
    "            q, a, supporting = line.split('\\t')\n",
    "            q = tokenize(q)\n",
    "            substory = None\n",
    "            if only_supporting:\n",
    "                # Only select the related substory\n",
    "                supporting = map(int, supporting.split())\n",
    "                substory = [story[i - 1] for i in supporting]\n",
    "            else:\n",
    "                # Provide all the substories\n",
    "                substory = [x for x in story if x]\n",
    "            data.append((substory, q, a))\n",
    "            story.append('')\n",
    "        else:\n",
    "            sent = tokenize(line)\n",
    "            story.append(sent)\n",
    "    return data"
   ]
  },
  {
   "cell_type": "code",
   "execution_count": 4,
   "metadata": {
    "collapsed": true
   },
   "outputs": [],
   "source": [
    "def get_stories(f, only_supporting=False, max_length=None):\n",
    "    '''Given a file name, read the file,\n",
    "    retrieve the stories,\n",
    "    and then convert the sentences into a single story.\n",
    "    If max_length is supplied,\n",
    "    any stories longer than max_length tokens will be discarded.\n",
    "    '''\n",
    "    data = parse_stories(f.readlines(), only_supporting=only_supporting)\n",
    "    flatten = lambda data: reduce(lambda x, y: x + y, data)\n",
    "    data = [(flatten(story), q, answer) for story, q, answer in data if not max_length or len(flatten(story)) < max_length]\n",
    "    return data"
   ]
  },
  {
   "cell_type": "code",
   "execution_count": 6,
   "metadata": {
    "collapsed": true
   },
   "outputs": [],
   "source": [
    "def vectorize_stories(data, word_idx, story_maxlen, query_maxlen):\n",
    "    X = []\n",
    "    Xq = []\n",
    "    Y = []\n",
    "    for story, query, answer in data:\n",
    "        x = [word_idx[w] for w in story]\n",
    "        xq = [word_idx[w] for w in query]\n",
    "        # let's not forget that index 0 is reserved\n",
    "        y = np.zeros(len(word_idx) + 1)\n",
    "        y[word_idx[answer]] = 1\n",
    "        X.append(x)\n",
    "        Xq.append(xq)\n",
    "        Y.append(y)\n",
    "    return (pad_sequences(X, maxlen=story_maxlen),\n",
    "            pad_sequences(Xq, maxlen=query_maxlen), np.array(Y))"
   ]
  },
  {
   "cell_type": "code",
   "execution_count": 7,
   "metadata": {},
   "outputs": [
    {
     "name": "stdout",
     "output_type": "stream",
     "text": [
      "Downloading data from https://s3.amazonaws.com/text-datasets/babi_tasks_1-20_v1-2.tar.gz\n"
     ]
    }
   ],
   "source": [
    "try:\n",
    "    path = get_file('babi-tasks-v1-2.tar.gz', origin='https://s3.amazonaws.com/text-datasets/babi_tasks_1-20_v1-2.tar.gz')\n",
    "except:\n",
    "    print('Error downloading dataset, please download it manually:\\n'\n",
    "          '$ wget http://www.thespermwhale.com/jaseweston/babi/tasks_1-20_v1-2.tar.gz\\n'\n",
    "          '$ mv tasks_1-20_v1-2.tar.gz ~/.keras/datasets/babi-tasks-v1-2.tar.gz')\n",
    "    raise\n",
    "tar = tarfile.open(path)"
   ]
  },
  {
   "cell_type": "code",
   "execution_count": 8,
   "metadata": {
    "collapsed": true
   },
   "outputs": [],
   "source": [
    "challenges = {\n",
    "    # QA1 with 10,000 samples\n",
    "    'single_supporting_fact_10k': 'tasks_1-20_v1-2/en-10k/qa1_single-supporting-fact_{}.txt',\n",
    "    # QA2 with 10,000 samples\n",
    "    'two_supporting_facts_10k': 'tasks_1-20_v1-2/en-10k/qa2_two-supporting-facts_{}.txt',\n",
    "}\n",
    "challenge_type = 'single_supporting_fact_10k'\n",
    "challenge = challenges[challenge_type]"
   ]
  },
  {
   "cell_type": "code",
   "execution_count": 9,
   "metadata": {},
   "outputs": [
    {
     "name": "stdout",
     "output_type": "stream",
     "text": [
      "Extracting stories for the challenge: single_supporting_fact_10k\n"
     ]
    },
    {
     "name": "stderr",
     "output_type": "stream",
     "text": [
      "/Applications/anaconda/envs/chatbots/lib/python3.6/re.py:212: FutureWarning: split() requires a non-empty pattern match.\n",
      "  return _compile(pattern, flags).split(string, maxsplit)\n"
     ]
    }
   ],
   "source": [
    "print('Extracting stories for the challenge:', challenge_type)\n",
    "train_stories = get_stories(tar.extractfile(challenge.format('train')))\n",
    "test_stories = get_stories(tar.extractfile(challenge.format('test')))"
   ]
  },
  {
   "cell_type": "code",
   "execution_count": 10,
   "metadata": {
    "collapsed": true
   },
   "outputs": [],
   "source": [
    "vocab = set()\n",
    "for story, q, answer in train_stories + test_stories:\n",
    "    vocab |= set(story + q + [answer])\n",
    "vocab = sorted(vocab)"
   ]
  },
  {
   "cell_type": "code",
   "execution_count": 11,
   "metadata": {
    "collapsed": true
   },
   "outputs": [],
   "source": [
    "# Reserve 0 for masking via pad_sequences\n",
    "vocab_size = len(vocab) + 1\n",
    "story_maxlen = max(map(len, (x for x, _, _ in train_stories + test_stories)))\n",
    "query_maxlen = max(map(len, (x for _, x, _ in train_stories + test_stories)))"
   ]
  },
  {
   "cell_type": "code",
   "execution_count": 13,
   "metadata": {},
   "outputs": [
    {
     "name": "stdout",
     "output_type": "stream",
     "text": [
      "-\n",
      "Vocab size: 22 unique words\n",
      "Story max length: 68 words\n",
      "Query max length: 4 words\n",
      "Number of training stories: 10000\n",
      "Number of test stories: 1000\n",
      "-\n",
      "Here's what a \"story\" tuple looks like (input, query, answer):\n",
      "(['Mary', 'moved', 'to', 'the', 'bathroom', '.', 'John', 'went', 'to', 'the', 'hallway', '.'], ['Where', 'is', 'Mary', '?'], 'bathroom')\n",
      "-\n",
      "Vectorizing the word sequences...\n"
     ]
    }
   ],
   "source": [
    "print('-')\n",
    "print('Vocab size:', vocab_size, 'unique words')\n",
    "print('Story max length:', story_maxlen, 'words')\n",
    "print('Query max length:', query_maxlen, 'words')\n",
    "print('Number of training stories:', len(train_stories))\n",
    "print('Number of test stories:', len(test_stories))\n",
    "print('-')\n",
    "print('Here\\'s what a \"story\" tuple looks like (input, query, answer):')\n",
    "print(train_stories[0])\n",
    "print('-')\n",
    "print('Vectorizing the word sequences...')"
   ]
  },
  {
   "cell_type": "code",
   "execution_count": 14,
   "metadata": {
    "collapsed": true
   },
   "outputs": [],
   "source": [
    "word_idx = dict((c, i + 1) for i, c in enumerate(vocab))"
   ]
  },
  {
   "cell_type": "code",
   "execution_count": 15,
   "metadata": {
    "collapsed": true
   },
   "outputs": [],
   "source": [
    "inputs_train, queries_train, answers_train = vectorize_stories(train_stories,\n",
    "                                                               word_idx,\n",
    "                                                               story_maxlen,\n",
    "                                                               query_maxlen)"
   ]
  },
  {
   "cell_type": "code",
   "execution_count": 16,
   "metadata": {
    "collapsed": true
   },
   "outputs": [],
   "source": [
    "inputs_test, queries_test, answers_test = vectorize_stories(test_stories,\n",
    "                                                            word_idx,\n",
    "                                                            story_maxlen,\n",
    "                                                            query_maxlen)"
   ]
  },
  {
   "cell_type": "code",
   "execution_count": 17,
   "metadata": {},
   "outputs": [
    {
     "name": "stdout",
     "output_type": "stream",
     "text": [
      "-\n",
      "inputs: integer tensor of shape (samples, max_length)\n",
      "inputs_train shape: (10000, 68)\n",
      "inputs_test shape: (1000, 68)\n",
      "-\n",
      "queries: integer tensor of shape (samples, max_length)\n",
      "queries_train shape: (10000, 4)\n",
      "queries_test shape: (1000, 4)\n",
      "-\n",
      "answers: binary (1 or 0) tensor of shape (samples, vocab_size)\n",
      "answers_train shape: (10000, 22)\n",
      "answers_test shape: (1000, 22)\n",
      "-\n",
      "Compiling...\n"
     ]
    }
   ],
   "source": [
    "print('-')\n",
    "print('inputs: integer tensor of shape (samples, max_length)')\n",
    "print('inputs_train shape:', inputs_train.shape)\n",
    "print('inputs_test shape:', inputs_test.shape)\n",
    "print('-')\n",
    "print('queries: integer tensor of shape (samples, max_length)')\n",
    "print('queries_train shape:', queries_train.shape)\n",
    "print('queries_test shape:', queries_test.shape)\n",
    "print('-')\n",
    "print('answers: binary (1 or 0) tensor of shape (samples, vocab_size)')\n",
    "print('answers_train shape:', answers_train.shape)\n",
    "print('answers_test shape:', answers_test.shape)\n",
    "print('-')\n",
    "print('Compiling...')"
   ]
  },
  {
   "cell_type": "code",
   "execution_count": 19,
   "metadata": {
    "collapsed": true
   },
   "outputs": [],
   "source": [
    "# placeholders\n",
    "input_sequence = Input((story_maxlen,))\n",
    "question = Input((query_maxlen,))"
   ]
  },
  {
   "cell_type": "code",
   "execution_count": 20,
   "metadata": {
    "collapsed": true
   },
   "outputs": [],
   "source": [
    "# encoders\n",
    "# embed the input sequence into a sequence of vectors\n",
    "input_encoder_m = Sequential()\n",
    "input_encoder_m.add(Embedding(input_dim=vocab_size,\n",
    "                              output_dim=64))\n",
    "input_encoder_m.add(Dropout(0.3))\n",
    "# output: (samples, story_maxlen, embedding_dim)\n"
   ]
  },
  {
   "cell_type": "code",
   "execution_count": 21,
   "metadata": {
    "collapsed": true
   },
   "outputs": [],
   "source": [
    "# embed the input into a sequence of vectors of size query_maxlen\n",
    "input_encoder_c = Sequential()\n",
    "input_encoder_c.add(Embedding(input_dim=vocab_size,\n",
    "                              output_dim=query_maxlen))\n",
    "input_encoder_c.add(Dropout(0.3))\n",
    "# output: (samples, story_maxlen, query_maxlen)\n"
   ]
  },
  {
   "cell_type": "code",
   "execution_count": 22,
   "metadata": {
    "collapsed": true
   },
   "outputs": [],
   "source": [
    "# embed the question into a sequence of vectors\n",
    "question_encoder = Sequential()\n",
    "question_encoder.add(Embedding(input_dim=vocab_size,\n",
    "                               output_dim=64,\n",
    "                               input_length=query_maxlen))\n",
    "question_encoder.add(Dropout(0.3))\n",
    "# output: (samples, query_maxlen, embedding_dim)"
   ]
  },
  {
   "cell_type": "code",
   "execution_count": 23,
   "metadata": {
    "collapsed": true
   },
   "outputs": [],
   "source": [
    "# encode input sequence and questions (which are indices)\n",
    "# to sequences of dense vectors\n",
    "input_encoded_m = input_encoder_m(input_sequence)\n",
    "input_encoded_c = input_encoder_c(input_sequence)\n",
    "question_encoded = question_encoder(question)"
   ]
  },
  {
   "cell_type": "code",
   "execution_count": 24,
   "metadata": {
    "collapsed": true
   },
   "outputs": [],
   "source": [
    "# compute a 'match' between the first input vector sequence\n",
    "# and the question vector sequence\n",
    "# shape: `(samples, story_maxlen, query_maxlen)`\n",
    "match = dot([input_encoded_m, question_encoded], axes=(2, 2))\n",
    "match = Activation('softmax')(match)"
   ]
  },
  {
   "cell_type": "code",
   "execution_count": 25,
   "metadata": {
    "collapsed": true
   },
   "outputs": [],
   "source": [
    "# add the match matrix with the second input vector sequence\n",
    "response = add([match, input_encoded_c])  # (samples, story_maxlen, query_maxlen)\n",
    "response = Permute((2, 1))(response)  # (samples, query_maxlen, story_maxlen)"
   ]
  },
  {
   "cell_type": "code",
   "execution_count": 26,
   "metadata": {
    "collapsed": true
   },
   "outputs": [],
   "source": [
    "# concatenate the match matrix with the question vector sequence\n",
    "answer = concatenate([response, question_encoded])"
   ]
  },
  {
   "cell_type": "code",
   "execution_count": 27,
   "metadata": {
    "collapsed": true
   },
   "outputs": [],
   "source": [
    "# the original paper uses a matrix multiplication for this reduction step.\n",
    "# we choose to use a RNN instead.\n",
    "answer = LSTM(32)(answer)  # (samples, 32)"
   ]
  },
  {
   "cell_type": "code",
   "execution_count": 28,
   "metadata": {
    "collapsed": true
   },
   "outputs": [],
   "source": [
    "# one regularization layer -- more would probably be needed.\n",
    "answer = Dropout(0.3)(answer)\n",
    "answer = Dense(vocab_size)(answer)  # (samples, vocab_size)\n",
    "# we output a probability distribution over the vocabulary\n",
    "answer = Activation('softmax')(answer)"
   ]
  },
  {
   "cell_type": "code",
   "execution_count": 29,
   "metadata": {
    "collapsed": true
   },
   "outputs": [],
   "source": [
    "# build the final model\n",
    "model = Model([input_sequence, question], answer)\n",
    "model.compile(optimizer='rmsprop', loss='categorical_crossentropy',\n",
    "              metrics=['accuracy'])"
   ]
  },
  {
   "cell_type": "code",
   "execution_count": 30,
   "metadata": {},
   "outputs": [
    {
     "name": "stdout",
     "output_type": "stream",
     "text": [
      "Train on 10000 samples, validate on 1000 samples\n",
      "Epoch 1/120\n",
      "10000/10000 [==============================] - 5s - loss: 1.9384 - acc: 0.1717 - val_loss: 1.7955 - val_acc: 0.1490\n",
      "Epoch 2/120\n",
      "10000/10000 [==============================] - 4s - loss: 1.7345 - acc: 0.2359 - val_loss: 1.8011 - val_acc: 0.2530\n",
      "Epoch 3/120\n",
      "10000/10000 [==============================] - 4s - loss: 1.5908 - acc: 0.3644 - val_loss: 1.5337 - val_acc: 0.3960\n",
      "Epoch 4/120\n",
      "10000/10000 [==============================] - 5s - loss: 1.5169 - acc: 0.4141 - val_loss: 1.4938 - val_acc: 0.4450\n",
      "Epoch 5/120\n",
      "10000/10000 [==============================] - 5s - loss: 1.4813 - acc: 0.4346 - val_loss: 1.4032 - val_acc: 0.4820\n",
      "Epoch 6/120\n",
      "10000/10000 [==============================] - 4s - loss: 1.4241 - acc: 0.4657 - val_loss: 1.3737 - val_acc: 0.4670\n",
      "Epoch 7/120\n",
      "10000/10000 [==============================] - 4s - loss: 1.3973 - acc: 0.4653 - val_loss: 1.3724 - val_acc: 0.4610\n",
      "Epoch 8/120\n",
      "10000/10000 [==============================] - 4s - loss: 1.3849 - acc: 0.4672 - val_loss: 1.3457 - val_acc: 0.4780\n",
      "Epoch 9/120\n",
      "10000/10000 [==============================] - 4s - loss: 1.3768 - acc: 0.4771 - val_loss: 1.3269 - val_acc: 0.5000\n",
      "Epoch 10/120\n",
      "10000/10000 [==============================] - 4s - loss: 1.3593 - acc: 0.4744 - val_loss: 1.3173 - val_acc: 0.4990\n",
      "Epoch 11/120\n",
      "10000/10000 [==============================] - 4s - loss: 1.3434 - acc: 0.4943 - val_loss: 1.3272 - val_acc: 0.4950\n",
      "Epoch 12/120\n",
      "10000/10000 [==============================] - ETA: 0s - loss: 1.3376 - acc: 0.492 - 4s - loss: 1.3371 - acc: 0.4920 - val_loss: 1.2946 - val_acc: 0.5090\n",
      "Epoch 13/120\n",
      "10000/10000 [==============================] - 4s - loss: 1.3264 - acc: 0.4886 - val_loss: 1.3143 - val_acc: 0.4980\n",
      "Epoch 14/120\n",
      "10000/10000 [==============================] - 4s - loss: 1.3129 - acc: 0.4977 - val_loss: 1.2978 - val_acc: 0.4990\n",
      "Epoch 15/120\n",
      "10000/10000 [==============================] - 4s - loss: 1.2968 - acc: 0.4979 - val_loss: 1.2718 - val_acc: 0.5310\n",
      "Epoch 16/120\n",
      "10000/10000 [==============================] - 5s - loss: 1.2894 - acc: 0.5014 - val_loss: 1.2570 - val_acc: 0.5220\n",
      "Epoch 17/120\n",
      "10000/10000 [==============================] - 5s - loss: 1.2713 - acc: 0.5067 - val_loss: 1.2534 - val_acc: 0.5290\n",
      "Epoch 18/120\n",
      "10000/10000 [==============================] - 5s - loss: 1.2701 - acc: 0.5064 - val_loss: 1.2377 - val_acc: 0.5300\n",
      "Epoch 19/120\n",
      "10000/10000 [==============================] - 5s - loss: 1.2600 - acc: 0.5106 - val_loss: 1.2251 - val_acc: 0.5330\n",
      "Epoch 20/120\n",
      "10000/10000 [==============================] - 5s - loss: 1.2550 - acc: 0.5068 - val_loss: 1.2290 - val_acc: 0.5370\n",
      "Epoch 21/120\n",
      "10000/10000 [==============================] - 5s - loss: 1.2485 - acc: 0.5110 - val_loss: 1.2225 - val_acc: 0.5340\n",
      "Epoch 22/120\n",
      "10000/10000 [==============================] - 5s - loss: 1.2338 - acc: 0.5173 - val_loss: 1.2127 - val_acc: 0.5340\n",
      "Epoch 23/120\n",
      "10000/10000 [==============================] - 5s - loss: 1.2195 - acc: 0.5183 - val_loss: 1.2125 - val_acc: 0.5260\n",
      "Epoch 24/120\n",
      "10000/10000 [==============================] - 5s - loss: 1.2024 - acc: 0.5190 - val_loss: 1.1647 - val_acc: 0.5340\n",
      "Epoch 25/120\n",
      "10000/10000 [==============================] - 5s - loss: 1.1944 - acc: 0.5187 - val_loss: 1.1761 - val_acc: 0.5160\n",
      "Epoch 26/120\n",
      "10000/10000 [==============================] - 5s - loss: 1.1854 - acc: 0.5149 - val_loss: 1.1620 - val_acc: 0.5260\n",
      "Epoch 27/120\n",
      "10000/10000 [==============================] - 5s - loss: 1.1735 - acc: 0.5262 - val_loss: 1.1435 - val_acc: 0.5250\n",
      "Epoch 28/120\n",
      "10000/10000 [==============================] - 5s - loss: 1.1666 - acc: 0.5286 - val_loss: 1.1543 - val_acc: 0.5280\n",
      "Epoch 29/120\n",
      "10000/10000 [==============================] - 5s - loss: 1.1535 - acc: 0.5292 - val_loss: 1.1783 - val_acc: 0.5230\n",
      "Epoch 30/120\n",
      "10000/10000 [==============================] - 5s - loss: 1.1416 - acc: 0.5418 - val_loss: 1.1392 - val_acc: 0.5360\n",
      "Epoch 31/120\n",
      "10000/10000 [==============================] - 5s - loss: 1.1361 - acc: 0.5337 - val_loss: 1.1153 - val_acc: 0.5390\n",
      "Epoch 32/120\n",
      "10000/10000 [==============================] - 5s - loss: 1.1086 - acc: 0.5536 - val_loss: 1.0891 - val_acc: 0.5640\n",
      "Epoch 33/120\n",
      "10000/10000 [==============================] - 5s - loss: 1.0570 - acc: 0.5828 - val_loss: 0.9742 - val_acc: 0.6190\n",
      "Epoch 34/120\n",
      "10000/10000 [==============================] - 5s - loss: 0.9264 - acc: 0.6570 - val_loss: 0.8129 - val_acc: 0.7090\n",
      "Epoch 35/120\n",
      "10000/10000 [==============================] - 5s - loss: 0.7695 - acc: 0.7314 - val_loss: 0.7250 - val_acc: 0.7440\n",
      "Epoch 36/120\n",
      "10000/10000 [==============================] - 5s - loss: 0.7015 - acc: 0.7561 - val_loss: 0.6715 - val_acc: 0.7550\n",
      "Epoch 37/120\n",
      "10000/10000 [==============================] - 5s - loss: 0.6606 - acc: 0.7645 - val_loss: 0.6377 - val_acc: 0.7610\n",
      "Epoch 38/120\n",
      "10000/10000 [==============================] - 5s - loss: 0.6348 - acc: 0.7720 - val_loss: 0.6319 - val_acc: 0.7580\n",
      "Epoch 39/120\n",
      "10000/10000 [==============================] - 5s - loss: 0.5961 - acc: 0.7791 - val_loss: 0.6085 - val_acc: 0.7640\n",
      "Epoch 40/120\n",
      "10000/10000 [==============================] - 5s - loss: 0.5587 - acc: 0.7914 - val_loss: 0.5484 - val_acc: 0.7790\n",
      "Epoch 41/120\n",
      "10000/10000 [==============================] - 5s - loss: 0.5246 - acc: 0.8043 - val_loss: 0.5016 - val_acc: 0.8100\n",
      "Epoch 42/120\n",
      "10000/10000 [==============================] - 5s - loss: 0.4774 - acc: 0.8220 - val_loss: 0.4835 - val_acc: 0.8130\n",
      "Epoch 43/120\n",
      "10000/10000 [==============================] - 5s - loss: 0.4473 - acc: 0.8344 - val_loss: 0.4267 - val_acc: 0.8430\n",
      "Epoch 44/120\n",
      "10000/10000 [==============================] - 5s - loss: 0.4189 - acc: 0.8487 - val_loss: 0.4041 - val_acc: 0.8460\n",
      "Epoch 45/120\n",
      "10000/10000 [==============================] - 4s - loss: 0.3893 - acc: 0.8600 - val_loss: 0.3961 - val_acc: 0.8580\n",
      "Epoch 46/120\n",
      "10000/10000 [==============================] - 4s - loss: 0.3733 - acc: 0.8661 - val_loss: 0.3725 - val_acc: 0.8630\n",
      "Epoch 47/120\n",
      "10000/10000 [==============================] - 4s - loss: 0.3618 - acc: 0.8689 - val_loss: 0.3565 - val_acc: 0.8710\n",
      "Epoch 48/120\n",
      "10000/10000 [==============================] - 5s - loss: 0.3422 - acc: 0.8740 - val_loss: 0.3630 - val_acc: 0.8650\n",
      "Epoch 49/120\n",
      "10000/10000 [==============================] - 5s - loss: 0.3352 - acc: 0.8778 - val_loss: 0.3472 - val_acc: 0.8760\n",
      "Epoch 50/120\n",
      "10000/10000 [==============================] - 4s - loss: 0.3180 - acc: 0.8829 - val_loss: 0.3394 - val_acc: 0.8760\n",
      "Epoch 51/120\n",
      "10000/10000 [==============================] - 4s - loss: 0.3032 - acc: 0.8887 - val_loss: 0.3253 - val_acc: 0.8800\n",
      "Epoch 52/120\n",
      "10000/10000 [==============================] - 5s - loss: 0.2986 - acc: 0.8924 - val_loss: 0.3521 - val_acc: 0.8800\n",
      "Epoch 53/120\n",
      "10000/10000 [==============================] - 5s - loss: 0.2873 - acc: 0.8972 - val_loss: 0.3023 - val_acc: 0.8860\n",
      "Epoch 54/120\n",
      "10000/10000 [==============================] - 5s - loss: 0.2724 - acc: 0.9040 - val_loss: 0.3015 - val_acc: 0.8870\n",
      "Epoch 55/120\n",
      "10000/10000 [==============================] - 5s - loss: 0.2638 - acc: 0.9054 - val_loss: 0.2827 - val_acc: 0.9060\n",
      "Epoch 56/120\n",
      "10000/10000 [==============================] - 5s - loss: 0.2558 - acc: 0.9096 - val_loss: 0.2977 - val_acc: 0.8870\n",
      "Epoch 57/120\n",
      "10000/10000 [==============================] - 4s - loss: 0.2387 - acc: 0.9159 - val_loss: 0.2967 - val_acc: 0.9030\n",
      "Epoch 58/120\n",
      "10000/10000 [==============================] - 4s - loss: 0.2297 - acc: 0.9208 - val_loss: 0.2705 - val_acc: 0.8980\n",
      "Epoch 59/120\n",
      "10000/10000 [==============================] - 4s - loss: 0.2177 - acc: 0.9227 - val_loss: 0.2359 - val_acc: 0.9140\n",
      "Epoch 60/120\n",
      "10000/10000 [==============================] - 4s - loss: 0.2165 - acc: 0.9234 - val_loss: 0.2289 - val_acc: 0.9190\n",
      "Epoch 61/120\n",
      "10000/10000 [==============================] - 4s - loss: 0.2144 - acc: 0.9213 - val_loss: 0.2586 - val_acc: 0.9140\n",
      "Epoch 62/120\n",
      "10000/10000 [==============================] - 4s - loss: 0.1954 - acc: 0.9288 - val_loss: 0.2195 - val_acc: 0.9240\n",
      "Epoch 63/120\n"
     ]
    },
    {
     "name": "stdout",
     "output_type": "stream",
     "text": [
      "10000/10000 [==============================] - 4s - loss: 0.1924 - acc: 0.9320 - val_loss: 0.2157 - val_acc: 0.9220\n",
      "Epoch 64/120\n",
      "10000/10000 [==============================] - 4s - loss: 0.1830 - acc: 0.9355 - val_loss: 0.2231 - val_acc: 0.9170\n",
      "Epoch 65/120\n",
      "10000/10000 [==============================] - 4s - loss: 0.1812 - acc: 0.9331 - val_loss: 0.1962 - val_acc: 0.9420\n",
      "Epoch 66/120\n",
      "10000/10000 [==============================] - 4s - loss: 0.1677 - acc: 0.9410 - val_loss: 0.1965 - val_acc: 0.9380\n",
      "Epoch 67/120\n",
      "10000/10000 [==============================] - 5s - loss: 0.1659 - acc: 0.9418 - val_loss: 0.1868 - val_acc: 0.9430\n",
      "Epoch 68/120\n",
      "10000/10000 [==============================] - 5s - loss: 0.1687 - acc: 0.9400 - val_loss: 0.1881 - val_acc: 0.9380\n",
      "Epoch 69/120\n",
      "10000/10000 [==============================] - 4s - loss: 0.1586 - acc: 0.9421 - val_loss: 0.1806 - val_acc: 0.9420\n",
      "Epoch 70/120\n",
      "10000/10000 [==============================] - 5s - loss: 0.1499 - acc: 0.9483 - val_loss: 0.1790 - val_acc: 0.9430\n",
      "Epoch 71/120\n",
      "10000/10000 [==============================] - 4s - loss: 0.1504 - acc: 0.9433 - val_loss: 0.1752 - val_acc: 0.9430\n",
      "Epoch 72/120\n",
      "10000/10000 [==============================] - 5s - loss: 0.1457 - acc: 0.9483 - val_loss: 0.1815 - val_acc: 0.9350\n",
      "Epoch 73/120\n",
      "10000/10000 [==============================] - 5s - loss: 0.1405 - acc: 0.9506 - val_loss: 0.1974 - val_acc: 0.9380\n",
      "Epoch 74/120\n",
      "10000/10000 [==============================] - 5s - loss: 0.1377 - acc: 0.9488 - val_loss: 0.1656 - val_acc: 0.9480\n",
      "Epoch 75/120\n",
      "10000/10000 [==============================] - 4s - loss: 0.1413 - acc: 0.9503 - val_loss: 0.1766 - val_acc: 0.9430\n",
      "Epoch 76/120\n",
      "10000/10000 [==============================] - 4s - loss: 0.1331 - acc: 0.9542 - val_loss: 0.1702 - val_acc: 0.9490\n",
      "Epoch 77/120\n",
      "10000/10000 [==============================] - 5s - loss: 0.1276 - acc: 0.9537 - val_loss: 0.2108 - val_acc: 0.9230\n",
      "Epoch 78/120\n",
      "10000/10000 [==============================] - 4s - loss: 0.1270 - acc: 0.9530 - val_loss: 0.1740 - val_acc: 0.9440\n",
      "Epoch 79/120\n",
      "10000/10000 [==============================] - 4s - loss: 0.1242 - acc: 0.9569 - val_loss: 0.1694 - val_acc: 0.9480\n",
      "Epoch 80/120\n",
      "10000/10000 [==============================] - 4s - loss: 0.1251 - acc: 0.9577 - val_loss: 0.1628 - val_acc: 0.9470\n",
      "Epoch 81/120\n",
      "10000/10000 [==============================] - 4s - loss: 0.1284 - acc: 0.9595 - val_loss: 0.1791 - val_acc: 0.9410\n",
      "Epoch 82/120\n",
      "10000/10000 [==============================] - 4s - loss: 0.1201 - acc: 0.9577 - val_loss: 0.1863 - val_acc: 0.9380\n",
      "Epoch 83/120\n",
      "10000/10000 [==============================] - 4s - loss: 0.1152 - acc: 0.9600 - val_loss: 0.1738 - val_acc: 0.9420\n",
      "Epoch 84/120\n",
      "10000/10000 [==============================] - 4s - loss: 0.1120 - acc: 0.9577 - val_loss: 0.1861 - val_acc: 0.9440\n",
      "Epoch 85/120\n",
      "10000/10000 [==============================] - 5s - loss: 0.1117 - acc: 0.9622 - val_loss: 0.1561 - val_acc: 0.9530\n",
      "Epoch 86/120\n",
      "10000/10000 [==============================] - 5s - loss: 0.1083 - acc: 0.9613 - val_loss: 0.1482 - val_acc: 0.9500\n",
      "Epoch 87/120\n",
      "10000/10000 [==============================] - 5s - loss: 0.1030 - acc: 0.9635 - val_loss: 0.1786 - val_acc: 0.9490\n",
      "Epoch 88/120\n",
      "10000/10000 [==============================] - 5s - loss: 0.1120 - acc: 0.9616 - val_loss: 0.1713 - val_acc: 0.9490\n",
      "Epoch 89/120\n",
      "10000/10000 [==============================] - 5s - loss: 0.1046 - acc: 0.9626 - val_loss: 0.1529 - val_acc: 0.9550\n",
      "Epoch 90/120\n",
      "10000/10000 [==============================] - 5s - loss: 0.0999 - acc: 0.9668 - val_loss: 0.1558 - val_acc: 0.9510\n",
      "Epoch 91/120\n",
      "10000/10000 [==============================] - 5s - loss: 0.0947 - acc: 0.9672 - val_loss: 0.1738 - val_acc: 0.9490\n",
      "Epoch 92/120\n",
      "10000/10000 [==============================] - 4s - loss: 0.0991 - acc: 0.9667 - val_loss: 0.1472 - val_acc: 0.9510\n",
      "Epoch 93/120\n",
      "10000/10000 [==============================] - 4s - loss: 0.0926 - acc: 0.9687 - val_loss: 0.2091 - val_acc: 0.9400\n",
      "Epoch 94/120\n",
      "10000/10000 [==============================] - 5s - loss: 0.0909 - acc: 0.9677 - val_loss: 0.1794 - val_acc: 0.9460\n",
      "Epoch 95/120\n",
      "10000/10000 [==============================] - 5s - loss: 0.0899 - acc: 0.9685 - val_loss: 0.1392 - val_acc: 0.9580\n",
      "Epoch 96/120\n",
      "10000/10000 [==============================] - 5s - loss: 0.0917 - acc: 0.9692 - val_loss: 0.1956 - val_acc: 0.9460\n",
      "Epoch 97/120\n",
      "10000/10000 [==============================] - 5s - loss: 0.0863 - acc: 0.9703 - val_loss: 0.1730 - val_acc: 0.9450\n",
      "Epoch 98/120\n",
      "10000/10000 [==============================] - 5s - loss: 0.0791 - acc: 0.9727 - val_loss: 0.1436 - val_acc: 0.9600\n",
      "Epoch 99/120\n",
      "10000/10000 [==============================] - 5s - loss: 0.0847 - acc: 0.9700 - val_loss: 0.1494 - val_acc: 0.9570\n",
      "Epoch 100/120\n",
      "10000/10000 [==============================] - 5s - loss: 0.0892 - acc: 0.9702 - val_loss: 0.1497 - val_acc: 0.9550\n",
      "Epoch 101/120\n",
      "10000/10000 [==============================] - 5s - loss: 0.0833 - acc: 0.9703 - val_loss: 0.1884 - val_acc: 0.9470\n",
      "Epoch 102/120\n",
      "10000/10000 [==============================] - 5s - loss: 0.0769 - acc: 0.9744 - val_loss: 0.1464 - val_acc: 0.9550\n",
      "Epoch 103/120\n",
      "10000/10000 [==============================] - 5s - loss: 0.0794 - acc: 0.9734 - val_loss: 0.1437 - val_acc: 0.9590\n",
      "Epoch 104/120\n",
      "10000/10000 [==============================] - 5s - loss: 0.0793 - acc: 0.9719 - val_loss: 0.1550 - val_acc: 0.9530\n",
      "Epoch 105/120\n",
      "10000/10000 [==============================] - 5s - loss: 0.0728 - acc: 0.9744 - val_loss: 0.1460 - val_acc: 0.9560\n",
      "Epoch 106/120\n",
      "10000/10000 [==============================] - 5s - loss: 0.0786 - acc: 0.9737 - val_loss: 0.1447 - val_acc: 0.9560\n",
      "Epoch 107/120\n",
      "10000/10000 [==============================] - 5s - loss: 0.0749 - acc: 0.9743 - val_loss: 0.1476 - val_acc: 0.9590\n",
      "Epoch 108/120\n",
      "10000/10000 [==============================] - 5s - loss: 0.0722 - acc: 0.9749 - val_loss: 0.1488 - val_acc: 0.9600\n",
      "Epoch 109/120\n",
      "10000/10000 [==============================] - 5s - loss: 0.0754 - acc: 0.9754 - val_loss: 0.1507 - val_acc: 0.9520\n",
      "Epoch 110/120\n",
      "10000/10000 [==============================] - 5s - loss: 0.0757 - acc: 0.9769 - val_loss: 0.1837 - val_acc: 0.9470\n",
      "Epoch 111/120\n",
      "10000/10000 [==============================] - 5s - loss: 0.0704 - acc: 0.9748 - val_loss: 0.1450 - val_acc: 0.9620\n",
      "Epoch 112/120\n",
      "10000/10000 [==============================] - 5s - loss: 0.0699 - acc: 0.9782 - val_loss: 0.1496 - val_acc: 0.9580\n",
      "Epoch 113/120\n",
      "10000/10000 [==============================] - 5s - loss: 0.0661 - acc: 0.9786 - val_loss: 0.1280 - val_acc: 0.9700\n",
      "Epoch 114/120\n",
      "10000/10000 [==============================] - 5s - loss: 0.0632 - acc: 0.9800 - val_loss: 0.1478 - val_acc: 0.9520\n",
      "Epoch 115/120\n",
      "10000/10000 [==============================] - 5s - loss: 0.0612 - acc: 0.9801 - val_loss: 0.2628 - val_acc: 0.9260\n",
      "Epoch 116/120\n",
      "10000/10000 [==============================] - 5s - loss: 0.0660 - acc: 0.9796 - val_loss: 0.1215 - val_acc: 0.9610\n",
      "Epoch 117/120\n",
      "10000/10000 [==============================] - 5s - loss: 0.0642 - acc: 0.9811 - val_loss: 0.1340 - val_acc: 0.9590\n",
      "Epoch 118/120\n",
      "10000/10000 [==============================] - 5s - loss: 0.0677 - acc: 0.9781 - val_loss: 0.1300 - val_acc: 0.9670\n",
      "Epoch 119/120\n",
      "10000/10000 [==============================] - 5s - loss: 0.0645 - acc: 0.9781 - val_loss: 0.1195 - val_acc: 0.9650\n",
      "Epoch 120/120\n",
      "10000/10000 [==============================] - 5s - loss: 0.0496 - acc: 0.9824 - val_loss: 0.1431 - val_acc: 0.9620\n"
     ]
    },
    {
     "data": {
      "text/plain": [
       "<keras.callbacks.History at 0x121b77048>"
      ]
     },
     "execution_count": 30,
     "metadata": {},
     "output_type": "execute_result"
    }
   ],
   "source": [
    "# train\n",
    "model.fit([inputs_train, queries_train], answers_train,\n",
    "          batch_size=32,\n",
    "          epochs=120,\n",
    "          validation_data=([inputs_test, queries_test], answers_test))"
   ]
  },
  {
   "cell_type": "code",
   "execution_count": 41,
   "metadata": {},
   "outputs": [
    {
     "data": {
      "text/plain": [
       "(['Mary',\n",
       "  'moved',\n",
       "  'to',\n",
       "  'the',\n",
       "  'bathroom',\n",
       "  '.',\n",
       "  'John',\n",
       "  'went',\n",
       "  'to',\n",
       "  'the',\n",
       "  'hallway',\n",
       "  '.',\n",
       "  'Daniel',\n",
       "  'went',\n",
       "  'back',\n",
       "  'to',\n",
       "  'the',\n",
       "  'hallway',\n",
       "  '.',\n",
       "  'Sandra',\n",
       "  'moved',\n",
       "  'to',\n",
       "  'the',\n",
       "  'garden',\n",
       "  '.',\n",
       "  'John',\n",
       "  'moved',\n",
       "  'to',\n",
       "  'the',\n",
       "  'office',\n",
       "  '.',\n",
       "  'Sandra',\n",
       "  'journeyed',\n",
       "  'to',\n",
       "  'the',\n",
       "  'bathroom',\n",
       "  '.',\n",
       "  'Mary',\n",
       "  'moved',\n",
       "  'to',\n",
       "  'the',\n",
       "  'hallway',\n",
       "  '.',\n",
       "  'Daniel',\n",
       "  'travelled',\n",
       "  'to',\n",
       "  'the',\n",
       "  'office',\n",
       "  '.'],\n",
       " ['Where', 'is', 'Daniel', '?'],\n",
       " 'office')"
      ]
     },
     "execution_count": 41,
     "metadata": {},
     "output_type": "execute_result"
    }
   ],
   "source": [
    "train_stories[3]"
   ]
  },
  {
   "cell_type": "code",
   "execution_count": 45,
   "metadata": {},
   "outputs": [
    {
     "data": {
      "text/plain": [
       "(['John',\n",
       "  'travelled',\n",
       "  'to',\n",
       "  'the',\n",
       "  'hallway',\n",
       "  '.',\n",
       "  'Mary',\n",
       "  'journeyed',\n",
       "  'to',\n",
       "  'the',\n",
       "  'bathroom',\n",
       "  '.',\n",
       "  'Daniel',\n",
       "  'went',\n",
       "  'back',\n",
       "  'to',\n",
       "  'the',\n",
       "  'bathroom',\n",
       "  '.',\n",
       "  'John',\n",
       "  'moved',\n",
       "  'to',\n",
       "  'the',\n",
       "  'bedroom',\n",
       "  '.',\n",
       "  'John',\n",
       "  'went',\n",
       "  'to',\n",
       "  'the',\n",
       "  'hallway',\n",
       "  '.',\n",
       "  'Sandra',\n",
       "  'journeyed',\n",
       "  'to',\n",
       "  'the',\n",
       "  'kitchen',\n",
       "  '.',\n",
       "  'Sandra',\n",
       "  'travelled',\n",
       "  'to',\n",
       "  'the',\n",
       "  'hallway',\n",
       "  '.',\n",
       "  'John',\n",
       "  'went',\n",
       "  'to',\n",
       "  'the',\n",
       "  'garden',\n",
       "  '.'],\n",
       " ['Where', 'is', 'Sandra', '?'],\n",
       " 'hallway')"
      ]
     },
     "execution_count": 45,
     "metadata": {},
     "output_type": "execute_result"
    }
   ],
   "source": [
    "test_stories[3]"
   ]
  },
  {
   "cell_type": "code",
   "execution_count": null,
   "metadata": {
    "collapsed": true
   },
   "outputs": [],
   "source": []
  }
 ],
 "metadata": {
  "kernelspec": {
   "display_name": "Python 3",
   "language": "python",
   "name": "python3"
  },
  "language_info": {
   "codemirror_mode": {
    "name": "ipython",
    "version": 3
   },
   "file_extension": ".py",
   "mimetype": "text/x-python",
   "name": "python",
   "nbconvert_exporter": "python",
   "pygments_lexer": "ipython3",
   "version": "3.6.1"
  }
 },
 "nbformat": 4,
 "nbformat_minor": 2
}
